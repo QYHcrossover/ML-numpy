{
 "cells": [
  {
   "cell_type": "code",
   "execution_count": 1,
   "metadata": {},
   "outputs": [],
   "source": [
    "from sklearn.datasets import load_breast_cancer\n",
    "from collections import Counter\n",
    "import numpy as np\n",
    "data = load_breast_cancer()\n",
    "X,y = data[\"data\"],data[\"target\"]"
   ]
  },
  {
   "cell_type": "code",
   "execution_count": 2,
   "metadata": {},
   "outputs": [],
   "source": [
    "from sklearn.model_selection import train_test_split\n",
    "X_train,X_test,y_train,y_test = train_test_split(X,y)"
   ]
  },
  {
   "cell_type": "code",
   "execution_count": 3,
   "metadata": {},
   "outputs": [],
   "source": [
    "#这边为了方便只考虑连续变量了\n",
    "class CartDT:\n",
    "    @staticmethod\n",
    "    def gini(y):\n",
    "        if type(y) == list or type(y) == np.ndarray:\n",
    "            y = dict(Counter(y))\n",
    "        precs = np.array(list(y.values())) / sum(y.values())\n",
    "        return 1-np.sum(precs**2)"
   ]
  },
  {
   "cell_type": "code",
   "execution_count": 4,
   "metadata": {},
   "outputs": [
    {
     "data": {
      "text/plain": [
       "0.6666666666666667"
      ]
     },
     "execution_count": 4,
     "metadata": {},
     "output_type": "execute_result"
    }
   ],
   "source": [
    "t = [2,3,4]\n",
    "t = dict(Counter(t))\n",
    "CartDT.gini(t)"
   ]
  },
  {
   "cell_type": "code",
   "execution_count": 5,
   "metadata": {},
   "outputs": [],
   "source": [
    "#选择最佳的划分点,即求出fi和fv\n",
    "def best_split(X,y):\n",
    "    best_gini = 1e10\n",
    "    best_fi = None\n",
    "    best_fv = None\n",
    "    for fi in range(X.shape[1]):\n",
    "        #该特征仅有一个取值无法再分\n",
    "        if len(set(X[:,fi])) == 1:\n",
    "            continue\n",
    "        for fv in sorted(set(X[:,fi]))[:-1]:\n",
    "            y_left = y[X[:,fi] <= fv]\n",
    "            gini_left = CartDT.gini(y_left)\n",
    "            y_right = y[X[:,fi] > fv]\n",
    "            gini_right = CartDT.gini(y_right)\n",
    "            gini = len(y_left)/len(y)*gini_left + len(y_right)/len(y)*gini_right\n",
    "#             print(f\"fi={fi:.2f} fv={fv:.2f} gini={gini:.2f}\")\n",
    "            if gini < best_gini:\n",
    "                best_gini = gini\n",
    "                best_fi = fi\n",
    "                best_fv = fv\n",
    "    return best_gini,best_fi,best_fv"
   ]
  },
  {
   "cell_type": "code",
   "execution_count": 6,
   "metadata": {
    "scrolled": true
   },
   "outputs": [
    {
     "data": {
      "text/plain": [
       "(0.11571227960680289, 7, 0.05102)"
      ]
     },
     "execution_count": 6,
     "metadata": {},
     "output_type": "execute_result"
    }
   ],
   "source": [
    "best_split(X_test,y_test)"
   ]
  },
  {
   "cell_type": "code",
   "execution_count": 7,
   "metadata": {},
   "outputs": [],
   "source": [
    "def build_tree(X,y):\n",
    "    #叶子节点的条件1,仅有一个类别\n",
    "    counts = dict(Counter(y))\n",
    "    result = max(counts,key=counts.get)\n",
    "    if len(counts) == 1:\n",
    "        return {\"counts\":counts,\"result\":result}\n",
    "    \n",
    "    #叶子节点的条件2，所有特征仅有一个取值\n",
    "    fcs = [len(Counter(X[:,fi])) for fi in range(X.shape[-1])]\n",
    "    if sum(fcs) == X.shape[-1]:\n",
    "        return {\"counts\":counts,\"result\":result}\n",
    "    \n",
    "    gini,fi,fv = best_split(X,y)\n",
    "    index_left,index_right = X[:,fi]<=fv,X[:,fi]>fv\n",
    "    left = build_tree(X[index_left],y[index_left])\n",
    "    right = build_tree(X[index_right],y[index_right])\n",
    "    return {\"counts\":counts,\"result\":None,\"left\":left,\"right\":right,\"fi\":fi,\"fv\":fv}"
   ]
  },
  {
   "cell_type": "code",
   "execution_count": 8,
   "metadata": {},
   "outputs": [],
   "source": [
    "tree = build_tree(X_train,y_train)"
   ]
  },
  {
   "cell_type": "code",
   "execution_count": 9,
   "metadata": {},
   "outputs": [
    {
     "data": {
      "text/plain": [
       "{'counts': {0: 157, 1: 269},\n",
       " 'result': None,\n",
       " 'left': {'counts': {1: 249, 0: 13},\n",
       "  'result': None,\n",
       "  'left': {'counts': {1: 240, 0: 4},\n",
       "   'result': None,\n",
       "   'left': {'counts': {1: 240, 0: 2},\n",
       "    'result': None,\n",
       "    'left': {'counts': {1: 4, 0: 1},\n",
       "     'result': None,\n",
       "     'left': {'counts': {1: 4}, 'result': 1},\n",
       "     'right': {'counts': {0: 1}, 'result': 0},\n",
       "     'fi': 1,\n",
       "     'fv': 18.17},\n",
       "    'right': {'counts': {1: 236, 0: 1},\n",
       "     'result': None,\n",
       "     'left': {'counts': {1: 221}, 'result': 1},\n",
       "     'right': {'counts': {1: 15, 0: 1},\n",
       "      'result': None,\n",
       "      'left': {'counts': {0: 1}, 'result': 0},\n",
       "      'right': {'counts': {1: 15}, 'result': 1},\n",
       "      'fi': 21,\n",
       "      'fv': 33.37},\n",
       "     'fi': 21,\n",
       "     'fv': 33.33},\n",
       "    'fi': 14,\n",
       "    'fv': 0.00328},\n",
       "   'right': {'counts': {0: 2}, 'result': 0},\n",
       "   'fi': 10,\n",
       "   'fv': 0.6412},\n",
       "  'right': {'counts': {0: 9, 1: 9},\n",
       "   'result': None,\n",
       "   'left': {'counts': {0: 1, 1: 7},\n",
       "    'result': None,\n",
       "    'left': {'counts': {1: 7}, 'result': 1},\n",
       "    'right': {'counts': {0: 1}, 'result': 0},\n",
       "    'fi': 4,\n",
       "    'fv': 0.1175},\n",
       "   'right': {'counts': {0: 8, 1: 2},\n",
       "    'result': None,\n",
       "    'left': {'counts': {1: 2, 0: 1},\n",
       "     'result': None,\n",
       "     'left': {'counts': {1: 2}, 'result': 1},\n",
       "     'right': {'counts': {0: 1}, 'result': 0},\n",
       "     'fi': 0,\n",
       "     'fv': 13.51},\n",
       "    'right': {'counts': {0: 7}, 'result': 0},\n",
       "    'fi': 5,\n",
       "    'fv': 0.1147},\n",
       "   'fi': 21,\n",
       "   'fv': 25.4},\n",
       "  'fi': 27,\n",
       "  'fv': 0.1342},\n",
       " 'right': {'counts': {0: 144, 1: 20},\n",
       "  'result': None,\n",
       "  'left': {'counts': {0: 21, 1: 18},\n",
       "   'result': None,\n",
       "   'left': {'counts': {1: 17, 0: 2},\n",
       "    'result': None,\n",
       "    'left': {'counts': {1: 16}, 'result': 1},\n",
       "    'right': {'counts': {0: 2, 1: 1},\n",
       "     'result': None,\n",
       "     'left': {'counts': {1: 1}, 'result': 1},\n",
       "     'right': {'counts': {0: 2}, 'result': 0},\n",
       "     'fi': 1,\n",
       "     'fv': 13.98},\n",
       "    'fi': 14,\n",
       "    'fv': 0.007394},\n",
       "   'right': {'counts': {0: 19, 1: 1},\n",
       "    'result': None,\n",
       "    'left': {'counts': {0: 19}, 'result': 0},\n",
       "    'right': {'counts': {1: 1}, 'result': 1},\n",
       "    'fi': 0,\n",
       "    'fv': 15.46},\n",
       "   'fi': 24,\n",
       "   'fv': 0.1354},\n",
       "  'right': {'counts': {0: 123, 1: 2},\n",
       "   'result': None,\n",
       "   'left': {'counts': {1: 1}, 'result': 1},\n",
       "   'right': {'counts': {0: 123, 1: 1},\n",
       "    'result': None,\n",
       "    'left': {'counts': {0: 2, 1: 1},\n",
       "     'result': None,\n",
       "     'left': {'counts': {1: 1}, 'result': 1},\n",
       "     'right': {'counts': {0: 2}, 'result': 0},\n",
       "     'fi': 0,\n",
       "     'fv': 16.5},\n",
       "    'right': {'counts': {0: 121}, 'result': 0},\n",
       "    'fi': 8,\n",
       "    'fv': 0.1495},\n",
       "   'fi': 7,\n",
       "   'fv': 0.02771},\n",
       "  'fi': 20,\n",
       "  'fv': 17.5},\n",
       " 'fi': 22,\n",
       " 'fv': 105.9}"
      ]
     },
     "execution_count": 9,
     "metadata": {},
     "output_type": "execute_result"
    }
   ],
   "source": [
    "tree"
   ]
  },
  {
   "cell_type": "code",
   "execution_count": 10,
   "metadata": {},
   "outputs": [],
   "source": [
    "def predict(X):\n",
    "    y_pred = []\n",
    "    for x in X:\n",
    "        cur = tree\n",
    "        while cur[\"result\"] == None:\n",
    "            fi,fv = cur[\"fi\"],cur[\"fv\"]\n",
    "            cur = cur[\"left\"] if x[fi] <= fv else cur[\"right\"]\n",
    "        y_pred.append(cur[\"result\"])\n",
    "    return np.array(y_pred)"
   ]
  },
  {
   "cell_type": "code",
   "execution_count": 11,
   "metadata": {},
   "outputs": [
    {
     "data": {
      "text/plain": [
       "0.9090909090909091"
      ]
     },
     "execution_count": 11,
     "metadata": {},
     "output_type": "execute_result"
    }
   ],
   "source": [
    "np.sum(predict(X_test) == y_test) / len(y_test)"
   ]
  },
  {
   "cell_type": "code",
   "execution_count": 12,
   "metadata": {},
   "outputs": [],
   "source": [
    "def C(tree):\n",
    "    leafs = []\n",
    "    count = 0\n",
    "    def dfs(tree):\n",
    "        nonlocal leafs,count\n",
    "        count += 1\n",
    "        if tree[\"result\"] != None:\n",
    "            leafs.append(tree[\"counts\"])\n",
    "            return\n",
    "        dfs(tree[\"left\"])\n",
    "        dfs(tree[\"right\"])\n",
    "        return\n",
    "    dfs(tree)\n",
    "    percs = np.array([sum(leaf.values()) for leaf in leafs])\n",
    "    percs = percs / percs.sum()\n",
    "    ginis = np.array([CartDT.gini(leaf) for leaf in leafs])\n",
    "    c = np.sum(percs * ginis)\n",
    "    return c,count"
   ]
  },
  {
   "cell_type": "code",
   "execution_count": 13,
   "metadata": {},
   "outputs": [],
   "source": [
    "c,count = C(tree)"
   ]
  },
  {
   "cell_type": "code",
   "execution_count": 14,
   "metadata": {},
   "outputs": [],
   "source": [
    "alphas = []\n",
    "def add_alpha(tree):\n",
    "    global alphas\n",
    "    if tree[\"result\"] != None:\n",
    "        return tree\n",
    "    gini_one = CartDT.gini(tree[\"counts\"])\n",
    "    gini_whole,counts = C(tree)\n",
    "    alpha = (gini_one - gini_whole)/(counts-1)\n",
    "    alphas.append(alpha)\n",
    "    tree[\"alpha\"] = alpha\n",
    "    tree[\"left\"] = add_alpha(tree[\"left\"])\n",
    "    tree[\"right\"] = add_alpha(tree[\"right\"])\n",
    "    return tree"
   ]
  },
  {
   "cell_type": "code",
   "execution_count": 15,
   "metadata": {},
   "outputs": [
    {
     "name": "stdout",
     "output_type": "stream",
     "text": [
      "0.012248393581984452\n",
      "0.004715634287046211\n",
      "0.003224939532383764\n",
      "0.0020490403660952117\n",
      "0.15999999999999992\n"
     ]
    },
    {
     "ename": "KeyError",
     "evalue": "'alpha'",
     "output_type": "error",
     "traceback": [
      "\u001b[1;31m---------------------------------------------------------------------------\u001b[0m",
      "\u001b[1;31mKeyError\u001b[0m                                  Traceback (most recent call last)",
      "\u001b[1;32m<ipython-input-15-e3a6c03f8501>\u001b[0m in \u001b[0;36m<module>\u001b[1;34m()\u001b[0m\n\u001b[0;32m      5\u001b[0m \u001b[0mprint\u001b[0m\u001b[1;33m(\u001b[0m\u001b[0mtree_alpha\u001b[0m\u001b[1;33m[\u001b[0m\u001b[1;34m\"left\"\u001b[0m\u001b[1;33m]\u001b[0m\u001b[1;33m[\u001b[0m\u001b[1;34m\"left\"\u001b[0m\u001b[1;33m]\u001b[0m\u001b[1;33m[\u001b[0m\u001b[1;34m\"left\"\u001b[0m\u001b[1;33m]\u001b[0m\u001b[1;33m[\u001b[0m\u001b[1;34m\"alpha\"\u001b[0m\u001b[1;33m]\u001b[0m\u001b[1;33m)\u001b[0m\u001b[1;33m\u001b[0m\u001b[0m\n\u001b[0;32m      6\u001b[0m \u001b[0mprint\u001b[0m\u001b[1;33m(\u001b[0m\u001b[0mtree_alpha\u001b[0m\u001b[1;33m[\u001b[0m\u001b[1;34m\"left\"\u001b[0m\u001b[1;33m]\u001b[0m\u001b[1;33m[\u001b[0m\u001b[1;34m\"left\"\u001b[0m\u001b[1;33m]\u001b[0m\u001b[1;33m[\u001b[0m\u001b[1;34m\"left\"\u001b[0m\u001b[1;33m]\u001b[0m\u001b[1;33m[\u001b[0m\u001b[1;34m\"left\"\u001b[0m\u001b[1;33m]\u001b[0m\u001b[1;33m[\u001b[0m\u001b[1;34m\"alpha\"\u001b[0m\u001b[1;33m]\u001b[0m\u001b[1;33m)\u001b[0m\u001b[1;33m\u001b[0m\u001b[0m\n\u001b[1;32m----> 7\u001b[1;33m \u001b[0mprint\u001b[0m\u001b[1;33m(\u001b[0m\u001b[0mtree_alpha\u001b[0m\u001b[1;33m[\u001b[0m\u001b[1;34m\"left\"\u001b[0m\u001b[1;33m]\u001b[0m\u001b[1;33m[\u001b[0m\u001b[1;34m\"left\"\u001b[0m\u001b[1;33m]\u001b[0m\u001b[1;33m[\u001b[0m\u001b[1;34m\"left\"\u001b[0m\u001b[1;33m]\u001b[0m\u001b[1;33m[\u001b[0m\u001b[1;34m\"left\"\u001b[0m\u001b[1;33m]\u001b[0m\u001b[1;33m[\u001b[0m\u001b[1;34m\"left\"\u001b[0m\u001b[1;33m]\u001b[0m\u001b[1;33m[\u001b[0m\u001b[1;34m\"alpha\"\u001b[0m\u001b[1;33m]\u001b[0m\u001b[1;33m)\u001b[0m\u001b[1;33m\u001b[0m\u001b[0m\n\u001b[0m",
      "\u001b[1;31mKeyError\u001b[0m: 'alpha'"
     ]
    }
   ],
   "source": [
    "tree_alpha = add_alpha(tree)\n",
    "print(tree_alpha[\"alpha\"])\n",
    "print(tree_alpha[\"left\"][\"alpha\"])\n",
    "print(tree_alpha[\"left\"][\"left\"][\"alpha\"])\n",
    "print(tree_alpha[\"left\"][\"left\"][\"left\"][\"alpha\"])\n",
    "print(tree_alpha[\"left\"][\"left\"][\"left\"][\"left\"][\"alpha\"])\n",
    "print(tree_alpha[\"left\"][\"left\"][\"left\"][\"left\"][\"left\"][\"alpha\"])"
   ]
  },
  {
   "cell_type": "code",
   "execution_count": 16,
   "metadata": {},
   "outputs": [],
   "source": [
    "subtrees = [tree.copy() for _ in range(len(set(alphas)))]"
   ]
  },
  {
   "cell_type": "code",
   "execution_count": 17,
   "metadata": {},
   "outputs": [],
   "source": [
    "def inactivity(tree,alpha):\n",
    "    if tree[\"result\"] != None:\n",
    "        return tree\n",
    "    if tree[\"alpha\"] <= alpha:\n",
    "        tree[\"result\"] = max(tree[\"counts\"],key=tree[\"counts\"].get)\n",
    "    tree[\"left\"] = inactivity(tree[\"left\"],alpha)\n",
    "    tree[\"right\"] = inactivity(tree[\"right\"],alpha)\n",
    "    return tree"
   ]
  },
  {
   "cell_type": "code",
   "execution_count": 18,
   "metadata": {},
   "outputs": [],
   "source": [
    "for i,alpha in enumerate(sorted(set(alphas))):\n",
    "    subtrees[i] = inactivity(subtrees[i],alpha)"
   ]
  },
  {
   "cell_type": "code",
   "execution_count": 19,
   "metadata": {},
   "outputs": [],
   "source": [
    "# 整合所有的东西\n",
    "class CartDT:\n",
    "    @staticmethod\n",
    "    def gini(y):\n",
    "        if type(y) == list or type(y) == np.ndarray:\n",
    "            y = dict(Counter(y))\n",
    "        precs = np.array(list(y.values())) / sum(y.values())\n",
    "        return 1-np.sum(precs**2)\n",
    "    \n",
    "    def best_split(self,X,y):\n",
    "        best_gini = 1e10\n",
    "        best_fi = None\n",
    "        best_fv = None\n",
    "        for fi in range(X.shape[1]):\n",
    "            #该特征仅有一个取值无法再分\n",
    "            if len(set(X[:,fi])) == 1:\n",
    "                continue\n",
    "            for fv in sorted(set(X[:,fi]))[:-1]:\n",
    "                y_left = y[X[:,fi] <= fv]\n",
    "                gini_left = CartDT.gini(y_left)\n",
    "                y_right = y[X[:,fi] > fv]\n",
    "                gini_right = CartDT.gini(y_right)\n",
    "                gini = len(y_left)/len(y)*gini_left + len(y_right)/len(y)*gini_right\n",
    "    #             print(f\"fi={fi:.2f} fv={fv:.2f} gini={gini:.2f}\")\n",
    "                if gini < best_gini:\n",
    "                    best_gini = gini\n",
    "                    best_fi = fi\n",
    "                    best_fv = fv\n",
    "        return best_gini,best_fi,best_fv\n",
    "\n",
    "    def build_tree(self,X,y):\n",
    "        #叶子节点的条件1,仅有一个类别\n",
    "        counts = dict(Counter(y))\n",
    "        result = max(counts,key=counts.get)\n",
    "        if len(counts) == 1:\n",
    "            return {\"counts\":counts,\"result\":result}\n",
    "\n",
    "        #叶子节点的条件2，所有特征仅有一个取值\n",
    "        fcs = [len(Counter(X[:,fi])) for fi in range(X.shape[-1])]\n",
    "        if sum(fcs) == X.shape[-1]:\n",
    "            return {\"counts\":counts,\"result\":result}\n",
    "\n",
    "        gini,fi,fv = self.best_split(X,y)\n",
    "        index_left,index_right = X[:,fi]<=fv,X[:,fi]>fv\n",
    "        left = self.build_tree(X[index_left],y[index_left])\n",
    "        right = self.build_tree(X[index_right],y[index_right])\n",
    "        return {\"counts\":counts,\"result\":None,\"left\":left,\"right\":right,\"fi\":fi,\"fv\":fv}\n",
    "    \n",
    "    def fit(self,X,y):\n",
    "        self.tree = self.build_tree(X,y)\n",
    "    \n",
    "    def _C(self,tree):\n",
    "        leafs = []\n",
    "        count = 0\n",
    "        def dfs(tree):\n",
    "            nonlocal leafs,count\n",
    "            count += 1\n",
    "            if tree[\"result\"] != None:\n",
    "                leafs.append(tree[\"counts\"])\n",
    "                return\n",
    "            dfs(tree[\"left\"])\n",
    "            dfs(tree[\"right\"])\n",
    "            return\n",
    "        dfs(tree)\n",
    "        percs = np.array([sum(leaf.values()) for leaf in leafs])\n",
    "        percs = percs / percs.sum()\n",
    "        ginis = np.array([CartDT.gini(leaf) for leaf in leafs])\n",
    "        c = np.sum(percs * ginis)\n",
    "        return c,count\n",
    "    \n",
    "    def _add_alpha(self,tree):\n",
    "        if tree[\"result\"] != None:\n",
    "            return tree\n",
    "        gini_one = CartDT.gini(tree[\"counts\"])\n",
    "        gini_whole,counts = self._C(tree)\n",
    "        alpha = (gini_one - gini_whole)/(counts-1)\n",
    "        self.alphas.append(alpha)\n",
    "        tree[\"alpha\"] = alpha\n",
    "        tree[\"left\"] = self._add_alpha(tree[\"left\"])\n",
    "        tree[\"right\"] = self._add_alpha(tree[\"right\"])\n",
    "        return tree\n",
    "    \n",
    "    def _inactivity(self,tree,alpha):\n",
    "        if tree[\"result\"] != None:\n",
    "            return tree\n",
    "        if tree[\"alpha\"] <= alpha:\n",
    "            tree[\"result\"] = max(tree[\"counts\"],key=tree[\"counts\"].get)\n",
    "        tree[\"left\"] = self._inactivity(tree[\"left\"],alpha)\n",
    "        tree[\"right\"] = self._inactivity(tree[\"right\"],alpha)\n",
    "        return tree\n",
    "    \n",
    "    def post_pruning(self):\n",
    "        self.alphas = []\n",
    "        self.tree = self._add_alpha(self.tree)\n",
    "        self.subtrees = [self.tree.copy() for _ in range(len(set(self.alphas)))]\n",
    "        for i,alpha in enumerate(sorted(set(self.alphas))):\n",
    "            self.subtrees[i] = self._inactivity(self.subtrees[i],alpha)\n",
    "        \n",
    "    def _predict(self,X,tree):\n",
    "        y_pred = []\n",
    "        for x in X:\n",
    "            cur = tree\n",
    "            while cur[\"result\"] == None:\n",
    "                fi,fv = cur[\"fi\"],cur[\"fv\"]\n",
    "                cur = cur[\"left\"] if x[fi] <= fv else cur[\"right\"]\n",
    "            y_pred.append(cur[\"result\"])\n",
    "        return np.array(y_pred)\n",
    "    \n",
    "    def _score(self,X,y,tree):\n",
    "        return np.sum(self._predict(X,tree)==y) / len(y)\n",
    "    \n",
    "    def predict(self,X):\n",
    "        return self._predict(X,self.tree)\n",
    "    \n",
    "    def score(self,X,y):\n",
    "        return np.sum(self.predict(X)==y) / len(y)"
   ]
  },
  {
   "cell_type": "code",
   "execution_count": 20,
   "metadata": {},
   "outputs": [],
   "source": [
    "cart_clf = CartDT()\n",
    "cart_clf.fit(X_train,y_train)"
   ]
  },
  {
   "cell_type": "code",
   "execution_count": 21,
   "metadata": {},
   "outputs": [
    {
     "data": {
      "text/plain": [
       "0.9090909090909091"
      ]
     },
     "execution_count": 21,
     "metadata": {},
     "output_type": "execute_result"
    }
   ],
   "source": [
    "cart_clf.score(X_test,y_test)"
   ]
  },
  {
   "cell_type": "code",
   "execution_count": 22,
   "metadata": {},
   "outputs": [],
   "source": [
    "cart_clf.post_pruning()"
   ]
  },
  {
   "cell_type": "code",
   "execution_count": 23,
   "metadata": {},
   "outputs": [
    {
     "name": "stdout",
     "output_type": "stream",
     "text": [
      "[0.012248393581984452, 0.004715634287046211, 0.003224939532383764, 0.0020490403660952117, 0.15999999999999992, 0.0021008029340027212, 0.05859375, 0.0625, 0.109375, 0.07999999999999996, 0.2222222222222222, 0.013384889946460435, 0.0621301775147929, 0.047091412742382266, 0.2222222222222222, 0.04750000000000004, 0.005247999999999993, 0.003999739854318396, 0.2222222222222222]\n"
     ]
    }
   ],
   "source": [
    "print(cart_clf.alphas)"
   ]
  },
  {
   "cell_type": "code",
   "execution_count": 24,
   "metadata": {},
   "outputs": [
    {
     "name": "stdout",
     "output_type": "stream",
     "text": [
      "0.9090909090909091\n",
      "0.9090909090909091\n",
      "0.9090909090909091\n",
      "0.9090909090909091\n",
      "0.9090909090909091\n",
      "0.9090909090909091\n",
      "0.6153846153846154\n",
      "0.6153846153846154\n",
      "0.6153846153846154\n",
      "0.6153846153846154\n",
      "0.6153846153846154\n",
      "0.6153846153846154\n",
      "0.6153846153846154\n",
      "0.6153846153846154\n",
      "0.6153846153846154\n",
      "0.6153846153846154\n",
      "0.6153846153846154\n"
     ]
    }
   ],
   "source": [
    "for subtree in cart_clf.subtrees:\n",
    "    print(cart_clf._score(X_test,y_test,subtree))"
   ]
  }
 ],
 "metadata": {
  "kernelspec": {
   "display_name": "Python 3",
   "language": "python",
   "name": "python3"
  },
  "language_info": {
   "codemirror_mode": {
    "name": "ipython",
    "version": 3
   },
   "file_extension": ".py",
   "mimetype": "text/x-python",
   "name": "python",
   "nbconvert_exporter": "python",
   "pygments_lexer": "ipython3",
   "version": "3.6.5"
  }
 },
 "nbformat": 4,
 "nbformat_minor": 2
}
