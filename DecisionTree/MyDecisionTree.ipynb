{
 "cells": [
  {
   "cell_type": "code",
   "execution_count": 92,
   "metadata": {},
   "outputs": [],
   "source": [
    "import pandas as pd\n",
    "from sklearn.model_selection import train_test_split"
   ]
  },
  {
   "cell_type": "markdown",
   "metadata": {},
   "source": [
    "## 构造数据集"
   ]
  },
  {
   "cell_type": "code",
   "execution_count": 4,
   "metadata": {},
   "outputs": [],
   "source": [
    "def create_data():\n",
    "    datasets = [['青年', '否', '否', '一般', '否'],\n",
    "               ['青年', '否', '否', '好', '否'],\n",
    "               ['青年', '是', '否', '好', '是'],\n",
    "               ['青年', '是', '是', '一般', '是'],\n",
    "               ['青年', '否', '否', '一般', '否'],\n",
    "               ['中年', '否', '否', '一般', '否'],\n",
    "               ['中年', '否', '否', '好', '否'],\n",
    "               ['中年', '是', '是', '好', '是'],\n",
    "               ['中年', '否', '是', '非常好', '是'],\n",
    "               ['中年', '否', '是', '非常好', '是'],\n",
    "               ['老年', '否', '是', '非常好', '是'],\n",
    "               ['老年', '否', '是', '好', '是'],\n",
    "               ['老年', '是', '否', '好', '是'],\n",
    "               ['老年', '是', '否', '非常好', '是'],\n",
    "               ['老年', '否', '否', '一般', '否'],\n",
    "               ]\n",
    "    labels = [u'年龄', u'有工作', u'有自己的房子', u'信贷情况', u'类别']\n",
    "    # 返回数据集和每个维度的名称\n",
    "    return datasets, labels"
   ]
  },
  {
   "cell_type": "code",
   "execution_count": 93,
   "metadata": {},
   "outputs": [],
   "source": [
    "dataset,columns  = create_data()\n",
    "X,y = np.array(dataset)[:,:-1],np.array(dataset)[:,-1]\n",
    "X_train, X_test, y_train, y_test = train_test_split(X,y,test_size=1)"
   ]
  },
  {
   "cell_type": "code",
   "execution_count": 88,
   "metadata": {},
   "outputs": [
    {
     "data": {
      "text/html": [
       "<div>\n",
       "<style scoped>\n",
       "    .dataframe tbody tr th:only-of-type {\n",
       "        vertical-align: middle;\n",
       "    }\n",
       "\n",
       "    .dataframe tbody tr th {\n",
       "        vertical-align: top;\n",
       "    }\n",
       "\n",
       "    .dataframe thead th {\n",
       "        text-align: right;\n",
       "    }\n",
       "</style>\n",
       "<table border=\"1\" class=\"dataframe\">\n",
       "  <thead>\n",
       "    <tr style=\"text-align: right;\">\n",
       "      <th></th>\n",
       "      <th>年龄</th>\n",
       "      <th>有工作</th>\n",
       "      <th>有自己的房子</th>\n",
       "      <th>信贷情况</th>\n",
       "      <th>类别</th>\n",
       "    </tr>\n",
       "  </thead>\n",
       "  <tbody>\n",
       "    <tr>\n",
       "      <th>0</th>\n",
       "      <td>青年</td>\n",
       "      <td>否</td>\n",
       "      <td>否</td>\n",
       "      <td>一般</td>\n",
       "      <td>否</td>\n",
       "    </tr>\n",
       "    <tr>\n",
       "      <th>1</th>\n",
       "      <td>青年</td>\n",
       "      <td>否</td>\n",
       "      <td>否</td>\n",
       "      <td>好</td>\n",
       "      <td>否</td>\n",
       "    </tr>\n",
       "    <tr>\n",
       "      <th>2</th>\n",
       "      <td>青年</td>\n",
       "      <td>是</td>\n",
       "      <td>否</td>\n",
       "      <td>好</td>\n",
       "      <td>是</td>\n",
       "    </tr>\n",
       "    <tr>\n",
       "      <th>3</th>\n",
       "      <td>青年</td>\n",
       "      <td>是</td>\n",
       "      <td>是</td>\n",
       "      <td>一般</td>\n",
       "      <td>是</td>\n",
       "    </tr>\n",
       "    <tr>\n",
       "      <th>4</th>\n",
       "      <td>青年</td>\n",
       "      <td>否</td>\n",
       "      <td>否</td>\n",
       "      <td>一般</td>\n",
       "      <td>否</td>\n",
       "    </tr>\n",
       "    <tr>\n",
       "      <th>5</th>\n",
       "      <td>中年</td>\n",
       "      <td>否</td>\n",
       "      <td>否</td>\n",
       "      <td>一般</td>\n",
       "      <td>否</td>\n",
       "    </tr>\n",
       "    <tr>\n",
       "      <th>6</th>\n",
       "      <td>中年</td>\n",
       "      <td>否</td>\n",
       "      <td>否</td>\n",
       "      <td>好</td>\n",
       "      <td>否</td>\n",
       "    </tr>\n",
       "    <tr>\n",
       "      <th>7</th>\n",
       "      <td>中年</td>\n",
       "      <td>是</td>\n",
       "      <td>是</td>\n",
       "      <td>好</td>\n",
       "      <td>是</td>\n",
       "    </tr>\n",
       "    <tr>\n",
       "      <th>8</th>\n",
       "      <td>中年</td>\n",
       "      <td>否</td>\n",
       "      <td>是</td>\n",
       "      <td>非常好</td>\n",
       "      <td>是</td>\n",
       "    </tr>\n",
       "    <tr>\n",
       "      <th>9</th>\n",
       "      <td>中年</td>\n",
       "      <td>否</td>\n",
       "      <td>是</td>\n",
       "      <td>非常好</td>\n",
       "      <td>是</td>\n",
       "    </tr>\n",
       "    <tr>\n",
       "      <th>10</th>\n",
       "      <td>老年</td>\n",
       "      <td>否</td>\n",
       "      <td>是</td>\n",
       "      <td>非常好</td>\n",
       "      <td>是</td>\n",
       "    </tr>\n",
       "    <tr>\n",
       "      <th>11</th>\n",
       "      <td>老年</td>\n",
       "      <td>否</td>\n",
       "      <td>是</td>\n",
       "      <td>好</td>\n",
       "      <td>是</td>\n",
       "    </tr>\n",
       "    <tr>\n",
       "      <th>12</th>\n",
       "      <td>老年</td>\n",
       "      <td>是</td>\n",
       "      <td>否</td>\n",
       "      <td>好</td>\n",
       "      <td>是</td>\n",
       "    </tr>\n",
       "    <tr>\n",
       "      <th>13</th>\n",
       "      <td>老年</td>\n",
       "      <td>是</td>\n",
       "      <td>否</td>\n",
       "      <td>非常好</td>\n",
       "      <td>是</td>\n",
       "    </tr>\n",
       "    <tr>\n",
       "      <th>14</th>\n",
       "      <td>老年</td>\n",
       "      <td>否</td>\n",
       "      <td>否</td>\n",
       "      <td>一般</td>\n",
       "      <td>否</td>\n",
       "    </tr>\n",
       "  </tbody>\n",
       "</table>\n",
       "</div>"
      ],
      "text/plain": [
       "    年龄 有工作 有自己的房子 信贷情况 类别\n",
       "0   青年   否      否   一般  否\n",
       "1   青年   否      否    好  否\n",
       "2   青年   是      否    好  是\n",
       "3   青年   是      是   一般  是\n",
       "4   青年   否      否   一般  否\n",
       "5   中年   否      否   一般  否\n",
       "6   中年   否      否    好  否\n",
       "7   中年   是      是    好  是\n",
       "8   中年   否      是  非常好  是\n",
       "9   中年   否      是  非常好  是\n",
       "10  老年   否      是  非常好  是\n",
       "11  老年   否      是    好  是\n",
       "12  老年   是      否    好  是\n",
       "13  老年   是      否  非常好  是\n",
       "14  老年   否      否   一般  否"
      ]
     },
     "execution_count": 88,
     "metadata": {},
     "output_type": "execute_result"
    }
   ],
   "source": [
    "pd.DataFrame(datasets, columns=labels)"
   ]
  },
  {
   "cell_type": "markdown",
   "metadata": {},
   "source": [
    "### 计算信息熵"
   ]
  },
  {
   "cell_type": "code",
   "execution_count": 104,
   "metadata": {},
   "outputs": [],
   "source": [
    "def entropy(y):\n",
    "    precs = np.array(list(Counter(y).values()))/len(y)\n",
    "    ent = np.sum(-1 * precs * np.log(precs))\n",
    "    return ent"
   ]
  },
  {
   "cell_type": "code",
   "execution_count": 146,
   "metadata": {},
   "outputs": [
    {
     "data": {
      "text/plain": [
       "0.6829081047004717"
      ]
     },
     "execution_count": 146,
     "metadata": {},
     "output_type": "execute_result"
    }
   ],
   "source": [
    "entropy(y_train)"
   ]
  },
  {
   "cell_type": "markdown",
   "metadata": {},
   "source": [
    "### 决定使用哪个特征分割"
   ]
  },
  {
   "cell_type": "code",
   "execution_count": 137,
   "metadata": {},
   "outputs": [],
   "source": [
    "def decide_feature(X,y,feature_order):\n",
    "    n_features = X.shape[-1]\n",
    "    ents = (feature_order != -1).astype(np.float64)\n",
    "    for i in range(n_features):\n",
    "        if feature_order[i] >= 0:\n",
    "            continue\n",
    "        for feature,size in Counter(X[:,i]).items():\n",
    "            index = (X[:,i] == feature)\n",
    "            splity = y[index]\n",
    "            ent = entropy(splity)\n",
    "            ents[i] += ent*size/len(X)\n",
    "    fi = np.argmin(ents)\n",
    "    return fi,ents[fi]"
   ]
  },
  {
   "cell_type": "code",
   "execution_count": 147,
   "metadata": {},
   "outputs": [
    {
     "data": {
      "text/plain": [
       "(2, 0.32133436835360474)"
      ]
     },
     "execution_count": 147,
     "metadata": {},
     "output_type": "execute_result"
    }
   ],
   "source": [
    "decide_feature(X_train,y_train,np.array([-1,-1,-1,-1]))"
   ]
  },
  {
   "cell_type": "markdown",
   "metadata": {},
   "source": [
    "### 构建决策树"
   ]
  },
  {
   "cell_type": "code",
   "execution_count": 144,
   "metadata": {},
   "outputs": [],
   "source": [
    "def build_tree(X,y,feature_order):\n",
    "    curent = entropy(y)\n",
    "    counts = dict(Counter(y))\n",
    "    if len(counts) == 1 or min(feature_order) == 0:\n",
    "        result = max(counts,key=counts.get)\n",
    "        return {\"counts\":counts,\"result\":result}\n",
    "    fi,ent = decide_feature(X,y,feature_order)\n",
    "    feature_order[fi] = max(feature_order)+1 \n",
    "    result = None\n",
    "    next_ = {}\n",
    "    for value,_ in Counter(X[:,fi]).items():\n",
    "        next_[value] = build_tree(X[X[:,fi]==value],y[X[:,fi]==value],feature_order)\n",
    "    return {\"feature\":fi,\"entgain\":curent-ent,\"counts\":counts,\"result\":result,\"next\":next_}"
   ]
  },
  {
   "cell_type": "code",
   "execution_count": 151,
   "metadata": {},
   "outputs": [
    {
     "name": "stdout",
     "output_type": "stream",
     "text": [
      "是 6\n",
      "否 8\n",
      "是 2\n",
      "否 6\n"
     ]
    },
    {
     "data": {
      "text/plain": [
       "{'feature': 2,\n",
       " 'entgain': 0.36157373634686696,\n",
       " 'counts': {'是': 8, '否': 6},\n",
       " 'result': None,\n",
       " 'next': {'是': {'counts': {'是': 6}, 'result': '是'},\n",
       "  '否': {'feature': 1,\n",
       "   'entgain': 0.5623351446188083,\n",
       "   'counts': {'是': 2, '否': 6},\n",
       "   'result': None,\n",
       "   'next': {'是': {'counts': {'是': 2}, 'result': '是'},\n",
       "    '否': {'counts': {'否': 6}, 'result': '否'}}}}}"
      ]
     },
     "execution_count": 151,
     "metadata": {},
     "output_type": "execute_result"
    }
   ],
   "source": [
    "tree = build_tree(X_train,y_train,np.array([-1,-1,-1,-1]))\n",
    "tree"
   ]
  },
  {
   "cell_type": "markdown",
   "metadata": {},
   "source": [
    "### predict"
   ]
  },
  {
   "cell_type": "code",
   "execution_count": 156,
   "metadata": {},
   "outputs": [
    {
     "name": "stdout",
     "output_type": "stream",
     "text": [
      "['老年' '是' '否' '非常好']\n",
      "是\n"
     ]
    }
   ],
   "source": [
    "x_test = X_test[0]\n",
    "print(x_test)\n",
    "while tree[\"result\"] == None:\n",
    "    feature = tree[\"feature\"]\n",
    "    nexttree = tree[\"next\"][x_test[feature]]\n",
    "    tree = nexttree\n",
    "print(tree[\"result\"])"
   ]
  },
  {
   "cell_type": "code",
   "execution_count": 168,
   "metadata": {},
   "outputs": [],
   "source": [
    "class ID3DecisionTree:\n",
    "    @staticmethod\n",
    "    def entropy(y):\n",
    "        precs = np.array(list(Counter(y).values()))/len(y)\n",
    "        ent = np.sum(-1 * precs * np.log(precs))\n",
    "        return ent\n",
    "    \n",
    "    def decide_feature(self,X,y,feature_order):\n",
    "        n_features = X.shape[-1]\n",
    "        ents = (feature_order != -1).astype(np.float64)\n",
    "        for i in range(n_features):\n",
    "            if feature_order[i] >= 0:\n",
    "                continue\n",
    "            for feature,size in Counter(X[:,i]).items():\n",
    "                index = (X[:,i] == feature)\n",
    "                splity = y[index]\n",
    "                ent = ID3DecisionTree.entropy(splity)\n",
    "                ents[i] += ent*size/len(X)\n",
    "        fi = np.argmin(ents)\n",
    "        return fi,ents[fi]\n",
    "    \n",
    "    def build_tree(self,X,y,feature_order):\n",
    "        curent = ID3DecisionTree.entropy(y)\n",
    "        counts = dict(Counter(y))\n",
    "        if len(counts) == 1 or min(feature_order) == 0:\n",
    "            result = max(counts,key=counts.get)\n",
    "            return {\"counts\":counts,\"result\":result}\n",
    "        fi,ent = self.decide_feature(X,y,feature_order)\n",
    "        feature_order[fi] = max(feature_order)+1 \n",
    "        result = None\n",
    "        next_ = {}\n",
    "        for value,_ in Counter(X[:,fi]).items():\n",
    "            next_[value] = self.build_tree(X[X[:,fi]==value],y[X[:,fi]==value],feature_order)\n",
    "        return {\"feature\":fi,\"entgain\":curent-ent,\"counts\":counts,\"result\":result,\"next\":next_}\n",
    "    \n",
    "    def fit(self,X,y):\n",
    "        feature_order = -1 * np.ones(X.shape[-1])\n",
    "        self.tree = self.build_tree(X,y,feature_order)\n",
    "        \n",
    "    def predict(self,X):\n",
    "        y = []\n",
    "        for i in range(len(X)):\n",
    "            x_test = X[i]\n",
    "            tree = self.tree\n",
    "            while tree[\"result\"] == None:\n",
    "                feature = tree[\"feature\"]\n",
    "                nexttree = tree[\"next\"][x_test[feature]]\n",
    "                tree = nexttree\n",
    "            y.append(tree[\"result\"])\n",
    "        return y"
   ]
  },
  {
   "cell_type": "code",
   "execution_count": 170,
   "metadata": {},
   "outputs": [],
   "source": [
    "dt = ID3DecisionTree()\n",
    "dt.fit(X_train,y_train)"
   ]
  },
  {
   "cell_type": "code",
   "execution_count": 171,
   "metadata": {},
   "outputs": [
    {
     "data": {
      "text/plain": [
       "['是']"
      ]
     },
     "execution_count": 171,
     "metadata": {},
     "output_type": "execute_result"
    }
   ],
   "source": [
    "dt.predict(X_test)"
   ]
  }
 ],
 "metadata": {
  "kernelspec": {
   "display_name": "Python 3",
   "language": "python",
   "name": "python3"
  },
  "language_info": {
   "codemirror_mode": {
    "name": "ipython",
    "version": 3
   },
   "file_extension": ".py",
   "mimetype": "text/x-python",
   "name": "python",
   "nbconvert_exporter": "python",
   "pygments_lexer": "ipython3",
   "version": "3.6.5"
  }
 },
 "nbformat": 4,
 "nbformat_minor": 2
}
