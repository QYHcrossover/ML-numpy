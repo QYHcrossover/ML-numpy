{
 "cells": [
  {
   "cell_type": "code",
   "execution_count": 1,
   "metadata": {},
   "outputs": [],
   "source": [
    "import numpy as np"
   ]
  },
  {
   "cell_type": "code",
   "execution_count": 8,
   "metadata": {},
   "outputs": [
    {
     "data": {
      "text/plain": [
       "array([[2, 3],\n",
       "       [5, 4],\n",
       "       [9, 6],\n",
       "       [4, 7],\n",
       "       [8, 1],\n",
       "       [7, 2]])"
      ]
     },
     "execution_count": 8,
     "metadata": {},
     "output_type": "execute_result"
    }
   ],
   "source": [
    "X = np.array([(2,3),(5,4),(9,6),(4,7),(8,1),(7,2)])\n",
    "X"
   ]
  },
  {
   "cell_type": "markdown",
   "metadata": {},
   "source": [
    "## 1. 建树"
   ]
  },
  {
   "cell_type": "code",
   "execution_count": 9,
   "metadata": {},
   "outputs": [],
   "source": [
    "class TreeNode:\n",
    "    def __init__(self,data=None,fi=None,fv=None,left=None,right=None):\n",
    "        self.data = data\n",
    "        self.fi = fi\n",
    "        self.fv = fv\n",
    "        self.left = left\n",
    "        self.right = right\n",
    "\n",
    "class KDTree:\n",
    "    def buildTree(self,X,depth):\n",
    "        n_size,n_feature = X.shape\n",
    "        #递归终止条件\n",
    "        if n_size == 1:\n",
    "            tree = TreeNode(data=X[0])\n",
    "            return tree\n",
    "\n",
    "        fi = depth % n_feature\n",
    "        argsort = np.argsort(X[:,fi])\n",
    "        middle_idx = argsort[n_size // 2]\n",
    "        left_idxs,right_idxs = argsort[:n_size//2],argsort[n_size//2+1:]\n",
    "\n",
    "        fv = X[middle_idx,fi]\n",
    "        data = X[middle_idx]\n",
    "        left,right = None,None\n",
    "        if len(left_idxs) > 0:\n",
    "            left = self.buildTree(X[left_idxs],depth+1)\n",
    "        if len(right_idxs) > 0:\n",
    "            right = self.buildTree(X[right_idxs],depth+1)\n",
    "        tree = TreeNode(data,fi,fv,left,right)\n",
    "        return tree\n",
    "    \n",
    "    def fit(self,X):\n",
    "        self.tree = self.buildTree(X,0)"
   ]
  },
  {
   "cell_type": "code",
   "execution_count": 10,
   "metadata": {},
   "outputs": [],
   "source": [
    "kdtree = KDTree()\n",
    "kdtree.fit(X)"
   ]
  },
  {
   "cell_type": "code",
   "execution_count": 11,
   "metadata": {},
   "outputs": [
    {
     "data": {
      "text/plain": [
       "array([9, 6])"
      ]
     },
     "execution_count": 11,
     "metadata": {},
     "output_type": "execute_result"
    }
   ],
   "source": [
    "kdtree.tree.right.data"
   ]
  },
  {
   "cell_type": "markdown",
   "metadata": {},
   "source": [
    "## 2. 找最近邻"
   ]
  },
  {
   "cell_type": "code",
   "execution_count": 12,
   "metadata": {},
   "outputs": [],
   "source": [
    "def distance(a,b):\n",
    "    return np.sqrt(((a-b)**2).sum())"
   ]
  },
  {
   "cell_type": "code",
   "execution_count": 13,
   "metadata": {},
   "outputs": [],
   "source": [
    "x = np.array([2,4.5])\n",
    "nearest_point = kdtree.tree.data\n",
    "nearest_dis = distance(kdtree.tree.data,x)"
   ]
  },
  {
   "cell_type": "code",
   "execution_count": 14,
   "metadata": {},
   "outputs": [],
   "source": [
    "def find_nearest(kdtree,x):\n",
    "    global nearest_dis,nearest_point\n",
    "    if kdtree == None:\n",
    "        return\n",
    "    \n",
    "    #如果根节点到目标点的距离小于最近距离，则更新nearest_point和nearest_dis\n",
    "    if distance(kdtree.data,x) < nearest_dis:\n",
    "        nearest_dis = distance(kdtree.data,x)\n",
    "        nearest_point = kdtree.data\n",
    "    \n",
    "    if kdtree.fi == None or kdtree.fv == None:\n",
    "        return\n",
    "    \n",
    "    #进入下一个相应的子节点\n",
    "    if x[kdtree.fi] < kdtree.fv:\n",
    "        find_nearest(kdtree.left,x)\n",
    "        if x[kdtree.fi] + nearest_dis > kdtree.fv:\n",
    "            find_nearest(kdtree.right,x)\n",
    "    elif x[kdtree.fi] > kdtree.fv:\n",
    "        find_nearest(kdtree.right,x)\n",
    "        if x[kdtree.fi] - nearest_dis < kdtree.fv:\n",
    "            find_nearest(kdtree.left,x)\n",
    "    else:\n",
    "        find_nearest(kdtree.left,x)\n",
    "        find_nearest(kdtree.right,x)"
   ]
  },
  {
   "cell_type": "code",
   "execution_count": 15,
   "metadata": {},
   "outputs": [
    {
     "name": "stdout",
     "output_type": "stream",
     "text": [
      "1.5\n",
      "[2 3]\n"
     ]
    }
   ],
   "source": [
    "find_nearest(kdtree.tree,x)\n",
    "print(nearest_dis)\n",
    "print(nearest_point)"
   ]
  },
  {
   "cell_type": "markdown",
   "metadata": {},
   "source": [
    "## 3. 完成KNN的KDTree实现"
   ]
  },
  {
   "cell_type": "code",
   "execution_count": 144,
   "metadata": {},
   "outputs": [],
   "source": [
    "class TreeNode:\n",
    "    def __init__(self,data=None,label=None,fi=None,fv=None,left=None,right=None):\n",
    "        self.data = data\n",
    "        self.label = label\n",
    "        self.fi = fi\n",
    "        self.fv = fv\n",
    "        self.left = left\n",
    "        self.right = right\n",
    "\n",
    "class KDTreeKNN:\n",
    "    def __init__(self,k=3):\n",
    "        self.k = k\n",
    "    \n",
    "    def buildTree(self,X,y,depth):\n",
    "        n_size,n_feature = X.shape\n",
    "        #递归终止条件\n",
    "        if n_size == 1:\n",
    "            tree = TreeNode(data=X[0],label=y[0])\n",
    "            return tree\n",
    "\n",
    "        fi = depth % n_feature\n",
    "        argsort = np.argsort(X[:,fi])\n",
    "        middle_idx = argsort[n_size // 2]\n",
    "        left_idxs,right_idxs = argsort[:n_size//2],argsort[n_size//2+1:]\n",
    "\n",
    "        fv = X[middle_idx,fi]\n",
    "        data,label = X[middle_idx],y[middle_idx]\n",
    "        left,right = None,None\n",
    "        if len(left_idxs) > 0:\n",
    "            left = self.buildTree(X[left_idxs],y[left_idxs],depth+1)\n",
    "        if len(right_idxs) > 0:\n",
    "            right = self.buildTree(X[right_idxs],y[right_idxs],depth+1)\n",
    "        tree = TreeNode(data,label,fi,fv,left,right)\n",
    "        return tree\n",
    "    \n",
    "    def fit(self,X,y):\n",
    "        self.tree = self.buildTree(X,y,0)\n",
    "        \n",
    "    def _predict(self,x):\n",
    "        finded = []\n",
    "        labels = []\n",
    "        for i in range(self.k):\n",
    "            nearest_point,nearest_dis,nearest_label = self.find_nearest(x,finded)\n",
    "            finded.append(nearest_point)\n",
    "            labels.append(nearest_label)\n",
    "        \n",
    "        counter={}\n",
    "        for i in labels:\n",
    "            counter.setdefault(i,0)\n",
    "            counter[i]+=1\n",
    "        sort=sorted(counter.items(),key=lambda x:x[1])\n",
    "        return sort[0][0]\n",
    "    \n",
    "    def predict(self,X):\n",
    "        return np.array([self._predict(x) for x in tqdm(X)])\n",
    "\n",
    "    def score(self,X,y):\n",
    "    \treturn np.sum(self.predict(X)==y) / len(y)\n",
    "    \n",
    "    def _isin(self,x,finded):\n",
    "        for f in finded:\n",
    "            if KDTreeKNN.distance(x,f) < 1e-6: return True\n",
    "        return False\n",
    "        \n",
    "    @staticmethod\n",
    "    def distance(a,b):\n",
    "        return np.sqrt(((a-b)**2).sum())\n",
    "    \n",
    "    def find_nearest(self,x,finded):\n",
    "        nearest_point = None\n",
    "        nearest_dis = np.inf\n",
    "        nearest_label = None\n",
    "        def travel(kdtree,x):\n",
    "            nonlocal nearest_dis,nearest_point,nearest_label\n",
    "            if kdtree == None:\n",
    "                return\n",
    "\n",
    "            #如果根节点到目标点的距离小于最近距离，则更新nearest_point和nearest_dis\n",
    "            if KDTreeKNN.distance(kdtree.data,x) < nearest_dis and not self._isin(kdtree.data,finded) :\n",
    "                nearest_dis = KDTreeKNN.distance(kdtree.data,x)\n",
    "                nearest_point = kdtree.data\n",
    "                nearest_label = kdtree.label\n",
    "\n",
    "            if kdtree.fi == None or kdtree.fv == None:\n",
    "                return\n",
    "\n",
    "            #进入下一个相应的子节点\n",
    "            if x[kdtree.fi] < kdtree.fv:\n",
    "                travel(kdtree.left,x)\n",
    "                if x[kdtree.fi] + nearest_dis > kdtree.fv:\n",
    "                    travel(kdtree.right,x)\n",
    "            elif x[kdtree.fi] > kdtree.fv:\n",
    "                travel(kdtree.right,x)\n",
    "                if x[kdtree.fi] - nearest_dis < kdtree.fv:\n",
    "                    travel(kdtree.left,x)\n",
    "            else:\n",
    "                travel(kdtree.left,x)\n",
    "                travel(kdtree.right,x)\n",
    "        travel(self.tree,x)\n",
    "        return nearest_point,nearest_dis,nearest_label"
   ]
  },
  {
   "cell_type": "markdown",
   "metadata": {},
   "source": [
    "# 4. 测试KDTree KNN"
   ]
  },
  {
   "cell_type": "code",
   "execution_count": 140,
   "metadata": {},
   "outputs": [],
   "source": [
    "from sklearn.datasets import make_gaussian_quantiles\n",
    "X, y = make_gaussian_quantiles(n_samples=200, n_features=2, n_classes=2, mean=[1,2],cov=2,random_state=222)\n",
    "y_neg = y.copy()\n",
    "y_neg[y==0] = -1"
   ]
  },
  {
   "cell_type": "code",
   "execution_count": 146,
   "metadata": {},
   "outputs": [],
   "source": [
    "knn = KDTreeKNN()\n",
    "knn.fit(X,y_neg)"
   ]
  },
  {
   "cell_type": "code",
   "execution_count": 149,
   "metadata": {},
   "outputs": [],
   "source": [
    "import matplotlib.pyplot as plt\n",
    "%matplotlib inline\n",
    "def plot_clf(X,y,cls,name):\n",
    "    x_min, x_max = X[:, 0].min() - 1, X[:, 0].max() + 1\n",
    "    y_min, y_max = X[:, 1].min() - 1, X[:, 1].max() + 1\n",
    "    xx, yy = np.meshgrid(np.arange(x_min, x_max, 0.02),\n",
    "                         np.arange(y_min, y_max, 0.02))\n",
    "    points = np.c_[xx.ravel(), yy.ravel()]\n",
    "    Z = cls.predict(points)\n",
    "    cs = plt.contourf(xx, yy, Z.reshape(xx.shape))\n",
    "    plt.scatter(X[:, 0], X[:, 1], marker='o', c=y)\n",
    "    plt.title(name)"
   ]
  },
  {
   "cell_type": "code",
   "execution_count": 150,
   "metadata": {},
   "outputs": [
    {
     "name": "stderr",
     "output_type": "stream",
     "text": [
      "100%|████████████████████████████████████████████████████████████████████████| 222300/222300 [03:23<00:00, 1092.14it/s]\n"
     ]
    },
    {
     "data": {
      "image/png": "[encoded data removed]",
      "text/plain": [
       "<Figure size 432x288 with 1 Axes>"
      ]
     },
     "metadata": {},
     "output_type": "display_data"
    }
   ],
   "source": [
    "plot_clf(X,y,knn,\"knn\")"
   ]
  },
  {
   "cell_type": "markdown",
   "metadata": {},
   "source": [
    "## 4.2 普通KNN"
   ]
  },
  {
   "cell_type": "code",
   "execution_count": 152,
   "metadata": {},
   "outputs": [],
   "source": [
    "class KNNclassifier:\n",
    "    def __init__(self,k):\n",
    "        assert k>=1,\"k必须是大于1的整数\"\n",
    "        self.k=k\n",
    "        self.X_train=None\n",
    "        self.y_train=None\n",
    "\n",
    "    def fit(self,X_train,y_train):\n",
    "        self.X_train=X_train\n",
    "        self.y_train=y_train\n",
    "        return self\n",
    "\n",
    "    def _predict(self,X):\n",
    "        distance = [np.sum((X_i-X)**2) for X_i in self.X_train]\n",
    "        arg = np.argsort(distance)\n",
    "        top_k = [self.y_train[i] for i in arg[:self.k]]\n",
    "        # c=Counter(top_k)\n",
    "        # return c.most_common(1)[0][0]\n",
    "        counter={}\n",
    "        for i in top_k:\n",
    "            counter.setdefault(i,0)\n",
    "            counter[i]+=1\n",
    "        sort=sorted(counter.items(),key=lambda x:x[1])\n",
    "        return sort[0][0]\n",
    "\n",
    "    def predict(self, X_test):\n",
    "        y_predict = [self._predict(i) for i in tqdm(X_test)]\n",
    "        return np.array(y_predict)\n",
    "\n",
    "    def score(self, X_test ,y_test):\n",
    "        y_predict = self.predict(X_test)\n",
    "        return np.sum(y_predict==y_test)/len(X_test)"
   ]
  },
  {
   "cell_type": "code",
   "execution_count": 153,
   "metadata": {},
   "outputs": [
    {
     "data": {
      "text/plain": [
       "<__main__.KNNclassifier at 0x15e811726a0>"
      ]
     },
     "execution_count": 153,
     "metadata": {},
     "output_type": "execute_result"
    }
   ],
   "source": [
    "knn = KNNclassifier(3)\n",
    "knn.fit(X,y)"
   ]
  },
  {
   "cell_type": "code",
   "execution_count": 154,
   "metadata": {},
   "outputs": [
    {
     "name": "stderr",
     "output_type": "stream",
     "text": [
      "100%|█████████████████████████████████████████████████████████████████████████| 222300/222300 [05:24<00:00, 684.29it/s]\n"
     ]
    },
    {
     "data": {
      "image/png": "[encoded data removed]",
      "text/plain": [
       "<Figure size 432x288 with 1 Axes>"
      ]
     },
     "metadata": {},
     "output_type": "display_data"
    }
   ],
   "source": [
    "plot_clf(X,y,knn,\"knn\")"
   ]
  }
 ],
 "metadata": {
  "kernelspec": {
   "display_name": "Python 3",
   "language": "python",
   "name": "python3"
  },
  "language_info": {
   "codemirror_mode": {
    "name": "ipython",
    "version": 3
   },
   "file_extension": ".py",
   "mimetype": "text/x-python",
   "name": "python",
   "nbconvert_exporter": "python",
   "pygments_lexer": "ipython3",
   "version": "3.6.5"
  }
 },
 "nbformat": 4,
 "nbformat_minor": 2
}
