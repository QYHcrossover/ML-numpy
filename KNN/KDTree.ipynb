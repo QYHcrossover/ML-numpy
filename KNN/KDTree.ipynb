{
 "cells": [
  {
   "cell_type": "code",
   "execution_count": 1,
   "metadata": {},
   "outputs": [],
   "source": [
    "import numpy as np"
   ]
  },
  {
   "cell_type": "code",
   "execution_count": 2,
   "metadata": {},
   "outputs": [],
   "source": [
    "from sklearn.datasets import load_iris\n",
    "data = load_iris()\n",
    "X,y = data[\"data\"],data[\"target\"]"
   ]
  },
  {
   "cell_type": "code",
   "execution_count": 3,
   "metadata": {},
   "outputs": [],
   "source": [
    "# \n",
    "class KDTree:\n",
    "    def buildTree(self,X,depth):\n",
    "        n_size = len(X)\n",
    "        #递归终止条件\n",
    "        if n_size == 1:\n",
    "            self.data = X[0]\n",
    "            print(f\"depth:{depth},data:{X[0]}\")\n",
    "            return self\n",
    "        \n",
    "        self.fi = depth % self.n_feature\n",
    "        argsort = np.argsort(X[:,self.fi])\n",
    "        middle_idx = argsort[n_size // 2]\n",
    "        left_idxs,right_idxs = argsort[:n_size//2],argsort[n_size//2+1:]\n",
    "        \n",
    "        self.fv = X[middle_idx,self.fi]\n",
    "        self.data = X[middle_idx]\n",
    "        print(f\"depth:{depth},data:{X[middle_idx]}\")\n",
    "        if len(left_idxs) > 0:\n",
    "            self.left = self.buildTree(X[left_idxs],depth+1)\n",
    "        if len(right_idxs) > 0:\n",
    "            self.right = self.buildTree(X[right_idxs],depth+1)\n",
    "        return self\n",
    "        \n",
    "    def fit(self,X):\n",
    "        self.n_feature = X.shape[-1]\n",
    "        self.buildTree(X,0)\n",
    "        return self"
   ]
  },
  {
   "cell_type": "code",
   "execution_count": 4,
   "metadata": {},
   "outputs": [
    {
     "data": {
      "text/plain": [
       "array([[2, 3],\n",
       "       [5, 4],\n",
       "       [9, 6],\n",
       "       [4, 7],\n",
       "       [8, 1],\n",
       "       [7, 2]])"
      ]
     },
     "execution_count": 4,
     "metadata": {},
     "output_type": "execute_result"
    }
   ],
   "source": [
    "X = np.array([(2,3),(5,4),(9,6),(4,7),(8,1),(7,2)])\n",
    "X"
   ]
  },
  {
   "cell_type": "code",
   "execution_count": 5,
   "metadata": {},
   "outputs": [
    {
     "name": "stdout",
     "output_type": "stream",
     "text": [
      "depth:0,data:[7 2]\n",
      "depth:1,data:[5 4]\n",
      "depth:2,data:[2 3]\n",
      "depth:2,data:[4 7]\n",
      "depth:1,data:[9 6]\n",
      "depth:2,data:[8 1]\n"
     ]
    }
   ],
   "source": [
    "tree = KDTree()\n",
    "tree = tree.fit(X)"
   ]
  },
  {
   "cell_type": "code",
   "execution_count": 6,
   "metadata": {},
   "outputs": [
    {
     "name": "stdout",
     "output_type": "stream",
     "text": [
      "[8 1]\n"
     ]
    }
   ],
   "source": [
    "print(tree.data)"
   ]
  },
  {
   "cell_type": "code",
   "execution_count": 9,
   "metadata": {},
   "outputs": [],
   "source": [
    "# 以上代码会出现递归时的混乱现象，考虑还是将TreeNode和BuildTree分开\n",
    "class TreeNode:\n",
    "    def __init__(self,data=None,fi=None,fv=None,left=None,right=None):\n",
    "        self.data = data\n",
    "        self.fi = fi\n",
    "        self.fv = fv\n",
    "        self.left = left\n",
    "        self.right = right\n",
    "\n",
    "class KDTree:\n",
    "    def buildTree(self,X,depth):\n",
    "        n_size,n_feature = X.shape\n",
    "        #递归终止条件\n",
    "        if n_size == 1:\n",
    "            tree = TreeNode(data=X[0])\n",
    "            return tree\n",
    "\n",
    "        fi = depth % n_feature\n",
    "        argsort = np.argsort(X[:,fi])\n",
    "        middle_idx = argsort[n_size // 2]\n",
    "        left_idxs,right_idxs = argsort[:n_size//2],argsort[n_size//2+1:]\n",
    "\n",
    "        fv = X[middle_idx,fi]\n",
    "        data = X[middle_idx]\n",
    "        left,right = None,None\n",
    "        if len(left_idxs) > 0:\n",
    "            left = self.buildTree(X[left_idxs],depth+1)\n",
    "        if len(right_idxs) > 0:\n",
    "            right = self.buildTree(X[right_idxs],depth+1)\n",
    "        tree = TreeNode(data,fi,fv,left,right)\n",
    "        return tree\n",
    "    \n",
    "    def fit(self,X):\n",
    "        self.tree = self.buildTree(X,0)"
   ]
  },
  {
   "cell_type": "code",
   "execution_count": 10,
   "metadata": {},
   "outputs": [],
   "source": [
    "kdtree = KDTree()\n",
    "kdtree.fit(X)"
   ]
  },
  {
   "cell_type": "code",
   "execution_count": 11,
   "metadata": {},
   "outputs": [
    {
     "data": {
      "text/plain": [
       "array([9, 6])"
      ]
     },
     "execution_count": 11,
     "metadata": {},
     "output_type": "execute_result"
    }
   ],
   "source": [
    "kdtree.tree.right.data"
   ]
  },
  {
   "cell_type": "code",
   "execution_count": 12,
   "metadata": {},
   "outputs": [],
   "source": [
    "def distance(a,b):\n",
    "    return np.sqrt(((a-b)**2).sum())"
   ]
  },
  {
   "cell_type": "code",
   "execution_count": 13,
   "metadata": {},
   "outputs": [],
   "source": [
    "x = np.array([2,4.5])\n",
    "nearest_point = kdtree.tree.data\n",
    "nearest_dis = distance(kdtree.tree.data,x)"
   ]
  },
  {
   "cell_type": "code",
   "execution_count": 14,
   "metadata": {},
   "outputs": [],
   "source": [
    "def find_nearest(kdtree,x):\n",
    "    global nearest_dis,nearest_point\n",
    "    if kdtree == None:\n",
    "        return\n",
    "    \n",
    "    #如果根节点到目标点的距离小于最近距离，则更新nearest_point和nearest_dis\n",
    "    if distance(kdtree.data,x) < nearest_dis:\n",
    "        nearest_dis = distance(kdtree.data,x)\n",
    "        nearest_point = kdtree.data\n",
    "    \n",
    "    if kdtree.fi == None or kdtree.fv == None:\n",
    "        return\n",
    "    \n",
    "    #进入下一个相应的子节点\n",
    "    if x[kdtree.fi] < kdtree.fv:\n",
    "        find_nearest(kdtree.left,x)\n",
    "        if x[kdtree.fi] + nearest_dis > kdtree.fv:\n",
    "            find_nearest(kdtree.right,x)\n",
    "    elif x[kdtree.fi] > kdtree.fv:\n",
    "        find_nearest(kdtree.right,x)\n",
    "        if x[kdtree.fi] - nearest_dis < kdtree.fv:\n",
    "            find_nearest(kdtree.left,x)\n",
    "    else:\n",
    "        find_nearest(kdtree.left,x)\n",
    "        find_nearest(kdtree.right,x)"
   ]
  },
  {
   "cell_type": "code",
   "execution_count": 15,
   "metadata": {},
   "outputs": [
    {
     "name": "stdout",
     "output_type": "stream",
     "text": [
      "1.5\n",
      "[2 3]\n"
     ]
    }
   ],
   "source": [
    "find_nearest(kdtree.tree,x)\n",
    "print(nearest_dis)\n",
    "print(nearest_point)"
   ]
  },
  {
   "cell_type": "code",
   "execution_count": 18,
   "metadata": {},
   "outputs": [],
   "source": [
    "# 整合成一个KDTree\n",
    "class KDTree:\n",
    "    def buildTree(self,X,depth):\n",
    "        n_size,n_feature = X.shape\n",
    "        #递归终止条件\n",
    "        if n_size == 1:\n",
    "            tree = TreeNode(data=X[0])\n",
    "            return tree\n",
    "\n",
    "        fi = depth % n_feature\n",
    "        argsort = np.argsort(X[:,fi])\n",
    "        middle_idx = argsort[n_size // 2]\n",
    "        left_idxs,right_idxs = argsort[:n_size//2],argsort[n_size//2+1:]\n",
    "\n",
    "        fv = X[middle_idx,fi]\n",
    "        data = X[middle_idx]\n",
    "        left,right = None,None\n",
    "        if len(left_idxs) > 0:\n",
    "            left = self.buildTree(X[left_idxs],depth+1)\n",
    "        if len(right_idxs) > 0:\n",
    "            right = self.buildTree(X[right_idxs],depth+1)\n",
    "        tree = TreeNode(data,fi,fv,left,right)\n",
    "        return tree\n",
    "    \n",
    "    def fit(self,X):\n",
    "        self.tree = self.buildTree(X,0)\n",
    "        \n",
    "    @staticmethod\n",
    "    def distance(a,b):\n",
    "        return np.sqrt(((a-b)**2).sum())\n",
    "    \n",
    "    def find_nearest(self,x):\n",
    "        nearest_point = self.tree.data\n",
    "        nearest_dis = KDTree.distance(self.tree.data,x)\n",
    "        def travel(kdtree,x):\n",
    "            nonlocal nearest_dis,nearest_point\n",
    "            if kdtree == None:\n",
    "                return\n",
    "\n",
    "            #如果根节点到目标点的距离小于最近距离，则更新nearest_point和nearest_dis\n",
    "            if KDTree.distance(kdtree.data,x) < nearest_dis:\n",
    "                nearest_dis = KDTree.distance(kdtree.data,x)\n",
    "                nearest_point = kdtree.data\n",
    "\n",
    "            if kdtree.fi == None or kdtree.fv == None:\n",
    "                return\n",
    "\n",
    "            #进入下一个相应的子节点\n",
    "            if x[kdtree.fi] < kdtree.fv:\n",
    "                travel(kdtree.left,x)\n",
    "                if x[kdtree.fi] + nearest_dis > kdtree.fv:\n",
    "                    travel(kdtree.right,x)\n",
    "            elif x[kdtree.fi] > kdtree.fv:\n",
    "                travel(kdtree.right,x)\n",
    "                if x[kdtree.fi] - nearest_dis < kdtree.fv:\n",
    "                    travel(kdtree.left,x)\n",
    "            else:\n",
    "                travel(kdtree.left,x)\n",
    "                travel(kdtree.right,x)\n",
    "        travel(self.tree,x)\n",
    "        return nearest_point,nearest_dis"
   ]
  },
  {
   "cell_type": "code",
   "execution_count": 19,
   "metadata": {},
   "outputs": [
    {
     "data": {
      "text/plain": [
       "(array([2, 3]), 1.5)"
      ]
     },
     "execution_count": 19,
     "metadata": {},
     "output_type": "execute_result"
    }
   ],
   "source": [
    "kdtree = KDTree()\n",
    "kdtree.fit(X)\n",
    "x = np.array([2,4.5])\n",
    "kdtree.find_nearest(x)"
   ]
  }
 ],
 "metadata": {
  "kernelspec": {
   "display_name": "Python 3",
   "language": "python",
   "name": "python3"
  },
  "language_info": {
   "codemirror_mode": {
    "name": "ipython",
    "version": 3
   },
   "file_extension": ".py",
   "mimetype": "text/x-python",
   "name": "python",
   "nbconvert_exporter": "python",
   "pygments_lexer": "ipython3",
   "version": "3.6.5"
  }
 },
 "nbformat": 4,
 "nbformat_minor": 2
}
