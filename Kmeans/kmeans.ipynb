{
 "cells": [
  {
   "cell_type": "code",
   "execution_count": 107,
   "metadata": {},
   "outputs": [],
   "source": [
    "import numpy as np"
   ]
  },
  {
   "cell_type": "code",
   "execution_count": 108,
   "metadata": {},
   "outputs": [],
   "source": [
    "#读取数据\n",
    "data = []\n",
    "with open(\"data.txt\") as f:\n",
    "    for line in f:\n",
    "        x,y = line.strip().split()\n",
    "        data.append((float(x),float(y)))\n",
    "data = np.array(dataset)"
   ]
  },
  {
   "cell_type": "code",
   "execution_count": 109,
   "metadata": {},
   "outputs": [
    {
     "data": {
      "text/plain": [
       "(80, 2)"
      ]
     },
     "execution_count": 109,
     "metadata": {},
     "output_type": "execute_result"
    }
   ],
   "source": [
    "dataset.shape"
   ]
  },
  {
   "cell_type": "code",
   "execution_count": 112,
   "metadata": {},
   "outputs": [],
   "source": [
    "def kmeans(data,k):\n",
    "    ci = np.random.choice(len(dataset),k,replace=False)\n",
    "    centers = data[ci]\n",
    "#     print(\"centers : {}\".format(centers.shape))\n",
    "    it = 0\n",
    "    \n",
    "    while True:\n",
    "        #计算所有点到聚类中心的距离\n",
    "        distances = np.hstack([np.sum((data-center)**2,axis=1)[:,np.newaxis] for center in centers])\n",
    "        mink = np.argmin(distances,axis=1)\n",
    "\n",
    "        #确定下一轮聚类中心\n",
    "        newcenters = np.array([np.mean(data[mink==i],axis=0) for i in range(k)])\n",
    "#         print(\"new centers :{}\".format(newcenters.shape))\n",
    "\n",
    "        #判断是否需要下次迭代\n",
    "        delta = np.sum(np.abs(newcenters - centers))\n",
    "        if delta < 1e-6 or it >10000:\n",
    "            return centers,mink,it\n",
    "\n",
    "        #下次迭代\n",
    "        centers = newcenters\n",
    "        it += 1\n",
    "    "
   ]
  },
  {
   "cell_type": "code",
   "execution_count": 146,
   "metadata": {},
   "outputs": [
    {
     "data": {
      "text/plain": [
       "(array([[-3.38237045, -2.9473363 ],\n",
       "        [ 2.8692781 , -2.54779119],\n",
       "        [-0.02298687,  2.99472915]]),\n",
       " array([2, 2, 1, 0, 2, 2, 1, 0, 2, 2, 1, 0, 2, 2, 1, 0, 2, 2, 1, 0, 2, 2,\n",
       "        1, 0, 2, 2, 1, 0, 2, 2, 1, 0, 2, 2, 1, 0, 2, 2, 1, 0, 2, 2, 1, 0,\n",
       "        2, 2, 1, 0, 2, 2, 1, 0, 2, 2, 1, 0, 2, 2, 1, 0, 2, 2, 1, 0, 2, 2,\n",
       "        1, 0, 2, 2, 1, 0, 1, 2, 1, 0, 2, 2, 1, 0], dtype=int64),\n",
       " 6)"
      ]
     },
     "execution_count": 146,
     "metadata": {},
     "output_type": "execute_result"
    }
   ],
   "source": [
    "kmeans(data,3)"
   ]
  }
 ],
 "metadata": {
  "kernelspec": {
   "display_name": "Python 3",
   "language": "python",
   "name": "python3"
  },
  "language_info": {
   "codemirror_mode": {
    "name": "ipython",
    "version": 3
   },
   "file_extension": ".py",
   "mimetype": "text/x-python",
   "name": "python",
   "nbconvert_exporter": "python",
   "pygments_lexer": "ipython3",
   "version": "3.6.5"
  }
 },
 "nbformat": 4,
 "nbformat_minor": 2
}
