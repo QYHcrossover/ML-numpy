{
 "cells": [
  {
   "cell_type": "code",
   "execution_count": 160,
   "metadata": {},
   "outputs": [],
   "source": [
    "class Bayes:    \n",
    "    @staticmethod\n",
    "    def mean(X):\n",
    "        return np.mean(X,axis=0)\n",
    "    \n",
    "    @staticmethod\n",
    "    def variance(X):\n",
    "        return np.mean((X-Bayes.mean(X))**2,axis=0)\n",
    "    \n",
    "    def gaussian(self,x,avg,var): \n",
    "        return (1./np.sqrt(2*np.pi*var)) * np.exp(-0.5*((x-avg)**2)/var)\n",
    "    \n",
    "    def fit(self,X,y):\n",
    "        c = len(set(y))\n",
    "        self.c = c\n",
    "        Xs = [X[y==i] for i in range(c)]\n",
    "        \n",
    "        #各个类别的均值、方差、所占比率\n",
    "        self.avgs = [Bayes.mean(X) for X in Xs]\n",
    "        self.vars = [Bayes.variance(X) for X in Xs]\n",
    "        self.percs = [len(y[y==i])/len(y) for i in range(c)]\n",
    "        \n",
    "    def predict(self,x):\n",
    "        if len(x.shape) == 1:\n",
    "            result = np.array(self.percs)\n",
    "            for i in range(self.c):\n",
    "                gaus = self.gaussian(x,self.avgs[i],self.vars[i])\n",
    "                for j in range(len(x)):\n",
    "                    result[i] *= gaus[j]\n",
    "            return np.argmax(result)\n",
    "        results = np.array([self.predict(x[i]) for i in range(len(x))])\n",
    "        return results\n",
    "    \n",
    "    def score(self,X,y):\n",
    "        y_pred = self.predict(X)\n",
    "        return np.sum(y_pred==y)/len(y)"
   ]
  },
  {
   "cell_type": "code",
   "execution_count": 161,
   "metadata": {},
   "outputs": [],
   "source": [
    "import numpy as np\n",
    "import math\n",
    "from sklearn.datasets import load_iris\n",
    "from sklearn.model_selection import train_test_split"
   ]
  },
  {
   "cell_type": "code",
   "execution_count": 162,
   "metadata": {
    "scrolled": true
   },
   "outputs": [
    {
     "name": "stdout",
     "output_type": "stream",
     "text": [
      "112\n",
      "38\n"
     ]
    }
   ],
   "source": [
    "iris = load_iris()\n",
    "X,y = iris[\"data\"],iris[\"target\"]\n",
    "X_train,X_test,y_train,y_test = train_test_split(X,y,random_state=22)\n",
    "print(len(X_train))\n",
    "print(len(X_test))"
   ]
  },
  {
   "cell_type": "code",
   "execution_count": 163,
   "metadata": {},
   "outputs": [
    {
     "name": "stdout",
     "output_type": "stream",
     "text": [
      "[array([4.98461538, 3.42564103, 1.46153846, 0.23846154]), array([5.94324324, 2.76486486, 4.25135135, 1.33243243]), array([6.55555556, 2.95833333, 5.59722222, 2.03888889])]\n",
      "[array([0.13719921, 0.16857331, 0.03262327, 0.00903353]), array([0.28461651, 0.11903579, 0.24898466, 0.04705625]), array([0.41246914, 0.07854167, 0.30804784, 0.0729321 ])]\n"
     ]
    }
   ],
   "source": [
    "bayes = Bayes()\n",
    "bayes.fit(X_train,y_train)\n",
    "print(bayes.avgs)\n",
    "print(bayes.vars)"
   ]
  },
  {
   "cell_type": "code",
   "execution_count": 164,
   "metadata": {},
   "outputs": [
    {
     "data": {
      "text/plain": [
       "0.9736842105263158"
      ]
     },
     "execution_count": 164,
     "metadata": {},
     "output_type": "execute_result"
    }
   ],
   "source": [
    "bayes.score(X_test,y_test)"
   ]
  },
  {
   "cell_type": "code",
   "execution_count": 165,
   "metadata": {},
   "outputs": [
    {
     "data": {
      "text/plain": [
       "0.9736842105263158"
      ]
     },
     "execution_count": 165,
     "metadata": {},
     "output_type": "execute_result"
    }
   ],
   "source": [
    "from sklearn.naive_bayes import GaussianNB\n",
    "clf = GaussianNB()\n",
    "clf.fit(X_train, y_train)\n",
    "clf.score(X_test,y_test)"
   ]
  }
 ],
 "metadata": {
  "kernelspec": {
   "display_name": "Python 3",
   "language": "python",
   "name": "python3"
  },
  "language_info": {
   "codemirror_mode": {
    "name": "ipython",
    "version": 3
   },
   "file_extension": ".py",
   "mimetype": "text/x-python",
   "name": "python",
   "nbconvert_exporter": "python",
   "pygments_lexer": "ipython3",
   "version": "3.6.5"
  }
 },
 "nbformat": 4,
 "nbformat_minor": 2
}
