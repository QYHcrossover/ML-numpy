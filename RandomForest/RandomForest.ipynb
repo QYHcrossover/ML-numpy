{
 "cells": [
  {
   "cell_type": "code",
   "execution_count": 12,
   "metadata": {},
   "outputs": [],
   "source": [
    "import numpy as np\n",
    "import pandas as pd\n",
    "import matplotlib.pyplot as plt\n",
    "import seaborn as sns\n",
    "from sklearn.model_selection import train_test_split\n",
    "from collections import Counter\n",
    "from tqdm import tqdm\n",
    "%matplotlib inline"
   ]
  },
  {
   "cell_type": "code",
   "execution_count": 6,
   "metadata": {},
   "outputs": [],
   "source": [
    "df = pd.read_csv(\"processed.cleveland.data\",header=None,names=[\"age\",\"sex\",\"cp\",\"trestbps\",\"chol\",\"fbs\",\"restectg\",\"thalach\",\"exang\",\"oldpeak\",\"slope\",\"ca\",\"thal\",\"num\"])\n",
    "index = [\"?\" not in row for row in df.values]\n",
    "dataset = df.values[index].astype(np.float32)\n",
    "X,y = dataset[:,:-1],dataset[:,-1]\n",
    "y = y.astype(np.int64)\n",
    "X_train,X_test,y_train,y_test = train_test_split(X,y)"
   ]
  },
  {
   "cell_type": "code",
   "execution_count": 10,
   "metadata": {},
   "outputs": [],
   "source": [
    "kinds = [\"categorical\" if len(set(col))<6 else \"numerical\"for col in X.T]"
   ]
  },
  {
   "cell_type": "code",
   "execution_count": 1,
   "metadata": {},
   "outputs": [],
   "source": [
    "class C45DecisionTree:\n",
    "    @staticmethod\n",
    "    def entropy(y):\n",
    "        precs = np.array(list(Counter(y).values()))/len(y)\n",
    "        ent = np.sum(-1 * precs * np.log2(precs))\n",
    "        return ent\n",
    "\n",
    "    # 选择哪个特征进行分裂\n",
    "    def decide_feature(self,X,y,fas,kinds):\n",
    "        # fas refers to feature_available;if one feature can be splitted,this feature_available is True,else False\n",
    "        (n_samples,n_features) = X.shape\n",
    "        ers = np.ones(n_features) * -1\n",
    "        bestfvs = np.zeros(n_features)\n",
    "        for fi in range(n_features):\n",
    "            if not fas[fi]:\n",
    "                continue\n",
    "\n",
    "            if kinds[fi] == \"categorical\":\n",
    "                I,H = self.entropy(y),0\n",
    "                for fv,c in Counter(X[:,fi]).items():\n",
    "                    splity = y[X[:,fi] == fv]\n",
    "                    proc = c/n_samples\n",
    "                    I -= proc * self.entropy(splity)\n",
    "                    H += -proc * np.log2(proc)\n",
    "                ers[fi] = I/(H+1e-7)\n",
    "            else:\n",
    "#                 print(set(X[:,fi]))\n",
    "                for fv in list(sorted(set(X[:,fi])))[:-1]:\n",
    "                    splity_less = y[X[:,fi] <= fv]\n",
    "                    proc_less = len(splity_less) / n_samples\n",
    "                    splity_more = y[X[:,fi] > fv]\n",
    "                    proc_more = len(splity_more) / n_samples\n",
    "                    I = -proc_less * self.entropy(splity_less) - proc_more * self.entropy(splity_more) + self.entropy(y)\n",
    "                    H = -1*proc_less * np.log2(proc_less) - proc_more * np.log2(proc_more)\n",
    "                    if I/(H+1e-7) > ers[fi]:\n",
    "                        ers[fi] = I/(H+1e-7)\n",
    "                        bestfvs[fi] = fv\n",
    "        return ers,bestfvs\n",
    "\n",
    "    def build_tree(self,X,y,fas,kinds):\n",
    "        counts = dict(Counter(y))\n",
    "        result = max(counts,key=counts.get)\n",
    "#         print(\"fas\",fas,\"len(counts)\",len(counts))\n",
    "        if len(counts) == 1 or (fas==False).all():\n",
    "            return {\"counts\":counts,\"result\":result}\n",
    "        ers,bestfvs = self.decide_feature(X,y,fas,kinds)\n",
    "        if (ers == -1).all():\n",
    "            return {\"counts\":counts,\"result\":result}\n",
    "        next_ = {}\n",
    "        bestfi = np.argmax(ers)\n",
    "#         print(bestfi,ers)\n",
    "        if kinds[bestfi] == \"categorical\":\n",
    "            fas[bestfi] = False\n",
    "            for fv in set(X[:,bestfi]):\n",
    "                index = (X[:,bestfi] == fv)\n",
    "#                 print(\"next: {} {} {}, size:{}\".format(bestfi,\"==\",fv,len(y[index])))\n",
    "                next_[\"{}{}\".format(\"==\",fv)] = self.build_tree(X[index],y[index],fas,kinds)\n",
    "        else:\n",
    "            bestfv = bestfvs[bestfi]\n",
    "            index_less = X[:,bestfi] <= bestfv\n",
    "            fas_less = fas.copy()\n",
    "            if len(set(X[index_less][:,bestfi])) == 1:\n",
    "                fas_less[bestfi] = False\n",
    "#             print(\"next: {} {} {}, size:{}\".format(bestfi,\"<=\",bestfv,len(y[index_less])))\n",
    "            next_[\"{}{}\".format(\"<=\",bestfv)] = self.build_tree(X[index_less],y[index_less],fas_less,kinds)\n",
    "            index_more = X[:,bestfi] > bestfv\n",
    "            fas_more = fas.copy()\n",
    "            if len(set(X[index_more][:,bestfi])) == 1:\n",
    "                fas_more[bestfi] = False\n",
    "#             print(\"next: {} {} {}, size:{}\".format(bestfi,\">=\",bestfv,len(y[index_more])))\n",
    "            next_[\"{}{}\".format(\">\",bestfv)] = self.build_tree(X[index_more],y[index_more],fas_more,kinds)\n",
    "        return {\"fi\":bestfi,\"counts\":counts,\"result\":None,\"next\":next_}\n",
    "    \n",
    "    def fit(self,X,y,kinds):\n",
    "        fas = np.array([True]*X.shape[-1])\n",
    "        self.tree = self.build_tree(X,y,fas,kinds)\n",
    "\n",
    "    def predict_one(self,x):\n",
    "        tree = self.tree\n",
    "        while tree[\"result\"] == None:\n",
    "            fi = tree[\"fi\"]\n",
    "            fv = x[fi]\n",
    "            flag = False\n",
    "            for condition in tree[\"next\"]:\n",
    "                if eval(str(fv)+condition):\n",
    "                    tree = tree[\"next\"][condition]\n",
    "                    flag = True\n",
    "                    break\n",
    "            if not flag:\n",
    "                counts = tree[\"counts\"]\n",
    "                return max(counts,key=counts.get)\n",
    "        return tree[\"result\"]\n",
    "    \n",
    "    def predict(self,X):\n",
    "        y_predicts = []\n",
    "        for x_test in X_test:\n",
    "            y_predicts.append(self.predict_one(x_test))\n",
    "        return y_predicts\n",
    "        \n",
    "    def score(self,X_test,y_test):\n",
    "        y_predicts = self.predict(X_test)\n",
    "        return np.sum(y_predicts == y_test)/ len(y_test)"
   ]
  },
  {
   "cell_type": "code",
   "execution_count": 37,
   "metadata": {},
   "outputs": [
    {
     "data": {
      "text/plain": [
       "0.48"
      ]
     },
     "execution_count": 37,
     "metadata": {},
     "output_type": "execute_result"
    }
   ],
   "source": [
    "tree = C45DecisionTree()\n",
    "tree.fit(X_train,y_train,kinds)\n",
    "tree.score(X_test,y_test)"
   ]
  },
  {
   "cell_type": "code",
   "execution_count": 29,
   "metadata": {},
   "outputs": [],
   "source": [
    "class RandomForest:\n",
    "    def __init__(self,n_estimators=100):\n",
    "        self.n_estimators = n_estimators\n",
    "        self.base_clf = C45DecisionTree\n",
    "        self.clfs = []\n",
    "        self.index_cols = []\n",
    "        \n",
    "    def fit(self,X,y,kinds):\n",
    "        n_samples,n_features = X.shape\n",
    "        for clf in tqdm(range(self.n_estimators)):\n",
    "            index = np.random.choice(n_samples,n_samples,replace=True)\n",
    "            col_index = np.random.choice(n_features,8,replace=False)\n",
    "            self.index_cols.append(col_index)\n",
    "            X_this,y_this = X[index][:,col_index],y[index]\n",
    "            kind_this = [kinds[i] for i in col_index]\n",
    "            this_clf = self.base_clf()\n",
    "            this_clf.fit(X_this,y_this,kind_this)\n",
    "            self.clfs.append(this_clf)\n",
    "    \n",
    "    def predict(self,X):\n",
    "        results = np.array([clf.predict(X[:,self.index_cols[i]]) for i,clf in enumerate(self.clfs)])\n",
    "        y_predicts = []\n",
    "        for i in range(results.shape[-1]):\n",
    "            count = dict(Counter(results[:,i]))\n",
    "#             print(count)\n",
    "            result = max(count,key=count.get)\n",
    "            y_predicts.append(result)\n",
    "        return y_predicts\n",
    "            \n",
    "    def score(self,X,y):\n",
    "        y_predicts = self.predict(X)\n",
    "        return np.sum(y_predicts == y) / len(y)"
   ]
  },
  {
   "cell_type": "code",
   "execution_count": 30,
   "metadata": {},
   "outputs": [
    {
     "name": "stderr",
     "output_type": "stream",
     "text": [
      "100%|████████████████████████████████████████████████████████████████████████████████████████| 10/10 [00:03<00:00,  2.89it/s]\n"
     ]
    }
   ],
   "source": [
    "np.random.seed(22)\n",
    "rf = RandomForest(n_estimators=10)\n",
    "rf.fit(X_train,y_train,kinds)"
   ]
  },
  {
   "cell_type": "code",
   "execution_count": 31,
   "metadata": {},
   "outputs": [
    {
     "data": {
      "text/plain": [
       "0.18666666666666668"
      ]
     },
     "execution_count": 31,
     "metadata": {},
     "output_type": "execute_result"
    }
   ],
   "source": [
    "rf.score(X_test,y_test)"
   ]
  },
  {
   "cell_type": "code",
   "execution_count": 32,
   "metadata": {},
   "outputs": [],
   "source": [
    "class RandomForest2:\n",
    "    def __init__(self,n_estimators=100):\n",
    "        self.n_estimators = n_estimators\n",
    "        self.base_clf = C45DecisionTree\n",
    "        self.clfs = []\n",
    "        self.index_cols = []\n",
    "        \n",
    "    def fit(self,X,y,kinds):\n",
    "        n_samples,n_features = X.shape\n",
    "        for clf in tqdm(range(self.n_estimators)):\n",
    "            index = np.random.choice(n_samples,n_samples,replace=True)\n",
    "            X_this,y_this = X[index],y[index]\n",
    "            this_clf = self.base_clf()\n",
    "            this_clf.fit(X_this,y_this,kinds)\n",
    "            self.clfs.append(this_clf)\n",
    "    \n",
    "    def predict(self,X):\n",
    "        results = np.array([clf.predict(X) for i,clf in enumerate(self.clfs)])\n",
    "        y_predicts = []\n",
    "        for i in range(results.shape[-1]):\n",
    "            count = dict(Counter(results[:,i]))\n",
    "#             print(count)\n",
    "            result = max(count,key=count.get)\n",
    "            y_predicts.append(result)\n",
    "        return y_predicts\n",
    "            \n",
    "    def score(self,X,y):\n",
    "        y_predicts = self.predict(X)\n",
    "        return np.sum(y_predicts == y) / len(y)"
   ]
  },
  {
   "cell_type": "code",
   "execution_count": 35,
   "metadata": {},
   "outputs": [
    {
     "name": "stderr",
     "output_type": "stream",
     "text": [
      "100%|██████████████████████████████████████████████████████████████████████████████████████| 100/100 [01:00<00:00,  1.66it/s]\n"
     ]
    }
   ],
   "source": [
    "np.random.seed(22)\n",
    "rf = RandomForest2(n_estimators=100)\n",
    "rf.fit(X_train,y_train,kinds)"
   ]
  },
  {
   "cell_type": "code",
   "execution_count": 36,
   "metadata": {},
   "outputs": [
    {
     "data": {
      "text/plain": [
       "0.56"
      ]
     },
     "execution_count": 36,
     "metadata": {},
     "output_type": "execute_result"
    }
   ],
   "source": [
    "rf.score(X_test,y_test)"
   ]
  }
 ],
 "metadata": {
  "kernelspec": {
   "display_name": "Python 3",
   "language": "python",
   "name": "python3"
  },
  "language_info": {
   "codemirror_mode": {
    "name": "ipython",
    "version": 3
   },
   "file_extension": ".py",
   "mimetype": "text/x-python",
   "name": "python",
   "nbconvert_exporter": "python",
   "pygments_lexer": "ipython3",
   "version": "3.6.5"
  }
 },
 "nbformat": 4,
 "nbformat_minor": 2
}
